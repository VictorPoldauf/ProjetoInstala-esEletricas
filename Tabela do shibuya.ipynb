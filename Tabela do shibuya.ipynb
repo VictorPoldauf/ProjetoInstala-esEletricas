{
 "cells": [
  {
   "cell_type": "code",
   "execution_count": 98,
   "metadata": {},
   "outputs": [],
   "source": [
    "import math\n",
    "import pandas as pd"
   ]
  },
  {
   "cell_type": "code",
   "execution_count": 99,
   "metadata": {},
   "outputs": [],
   "source": [
    "maquinaSolda = 45000 #potencia\n",
    "tensao = 380\n",
    "fatorDeAgrupamento= 1\n",
    "fatorDeTemperatura = 0.87\n",
    "temperatura = 40\n",
    "comprimento = 40\n",
    "eficiencia = 0.015\n",
    "potenciaDoMotor = 28000 \n",
    "fatorDePotenciaMT = 0.92\n",
    "potenciaDoMotorAP=potenciaDoMotor/fatorDePotenciaMT\n",
    "potenciaDoMotorAP= potenciaDoMotorAP +(3*maquinaSolda)"
   ]
  },
  {
   "cell_type": "code",
   "execution_count": 100,
   "metadata": {},
   "outputs": [
    {
     "data": {
      "text/plain": [
       "251.35"
      ]
     },
     "execution_count": 100,
     "metadata": {},
     "output_type": "execute_result"
    }
   ],
   "source": [
    "#Metodo de corrente\n",
    "corrente = potenciaDoMotorAP/((3**0.5)*tensao)\n",
    "round(corrente,2)\n"
   ]
  },
  {
   "cell_type": "code",
   "execution_count": 101,
   "metadata": {},
   "outputs": [
    {
     "name": "stdout",
     "output_type": "stream",
     "text": [
      "288.91\n"
     ]
    }
   ],
   "source": [
    "#Corrigindo corrente\n",
    "correnteCorrigida= corrente/(fatorDeAgrupamento*fatorDeTemperatura )\n",
    "print(round(correnteCorrigida,2))"
   ]
  },
  {
   "cell_type": "code",
   "execution_count": 102,
   "metadata": {},
   "outputs": [
    {
     "data": {
      "text/plain": [
       "95.44"
      ]
     },
     "execution_count": 102,
     "metadata": {},
     "output_type": "execute_result"
    }
   ],
   "source": [
    "#Metodo de tensão\n",
    "s = (3**0.5)*0.0167*(1+0.004*(temperatura-20))*(1/(eficiencia*tensao**2))*potenciaDoMotorAP*comprimento\n",
    "round(s,2)"
   ]
  },
  {
   "cell_type": "code",
   "execution_count": 139,
   "metadata": {},
   "outputs": [
    {
     "data": {
      "text/html": [
       "<div>\n",
       "<style scoped>\n",
       "    .dataframe tbody tr th:only-of-type {\n",
       "        vertical-align: middle;\n",
       "    }\n",
       "\n",
       "    .dataframe tbody tr th {\n",
       "        vertical-align: top;\n",
       "    }\n",
       "\n",
       "    .dataframe thead th {\n",
       "        text-align: right;\n",
       "    }\n",
       "</style>\n",
       "<table border=\"1\" class=\"dataframe\">\n",
       "  <thead>\n",
       "    <tr style=\"text-align: right;\">\n",
       "      <th></th>\n",
       "      <th>Circuito</th>\n",
       "      <th>Corrente pelo metodo de corrente (A)</th>\n",
       "      <th>Corrente corrigida (A)</th>\n",
       "      <th>Comprimemto do cabo (m)</th>\n",
       "      <th>Variacação</th>\n",
       "      <th>Area pela tensão Calculada (mm²)</th>\n",
       "      <th>Area Final Calculada Pela corrente (mm²)</th>\n",
       "      <th>Area Final Calculada Pela tensão (mm²)</th>\n",
       "    </tr>\n",
       "  </thead>\n",
       "  <tbody>\n",
       "    <tr>\n",
       "      <th>0</th>\n",
       "      <td>MaquinaSolda 1</td>\n",
       "      <td>68.37</td>\n",
       "      <td>112.27</td>\n",
       "      <td>12</td>\n",
       "      <td>0.015</td>\n",
       "      <td>7.79</td>\n",
       "      <td>50.0</td>\n",
       "      <td>10.0</td>\n",
       "    </tr>\n",
       "    <tr>\n",
       "      <th>1</th>\n",
       "      <td>MaquinaSolda 2</td>\n",
       "      <td>68.37</td>\n",
       "      <td>112.27</td>\n",
       "      <td>20</td>\n",
       "      <td>0.040</td>\n",
       "      <td>4.87</td>\n",
       "      <td>50.0</td>\n",
       "      <td>6.0</td>\n",
       "    </tr>\n",
       "    <tr>\n",
       "      <th>2</th>\n",
       "      <td>MaquinaSolda 3</td>\n",
       "      <td>68.37</td>\n",
       "      <td>112.27</td>\n",
       "      <td>28</td>\n",
       "      <td>0.040</td>\n",
       "      <td>6.81</td>\n",
       "      <td>50.0</td>\n",
       "      <td>10.0</td>\n",
       "    </tr>\n",
       "    <tr>\n",
       "      <th>3</th>\n",
       "      <td>QD (motor) para Motor</td>\n",
       "      <td>46.24</td>\n",
       "      <td>53.15</td>\n",
       "      <td>4</td>\n",
       "      <td>0.040</td>\n",
       "      <td>0.66</td>\n",
       "      <td>16.0</td>\n",
       "      <td>2.5</td>\n",
       "    </tr>\n",
       "    <tr>\n",
       "      <th>4</th>\n",
       "      <td>QD (ms) para QD (motor)</td>\n",
       "      <td>46.24</td>\n",
       "      <td>53.15</td>\n",
       "      <td>16</td>\n",
       "      <td>0.075</td>\n",
       "      <td>14.05</td>\n",
       "      <td>16.0</td>\n",
       "      <td>16.0</td>\n",
       "    </tr>\n",
       "    <tr>\n",
       "      <th>5</th>\n",
       "      <td>QG para QD (ms)</td>\n",
       "      <td>251.35</td>\n",
       "      <td>361.14</td>\n",
       "      <td>25</td>\n",
       "      <td>0.015</td>\n",
       "      <td>59.65</td>\n",
       "      <td>240.0</td>\n",
       "      <td>70.0</td>\n",
       "    </tr>\n",
       "    <tr>\n",
       "      <th>6</th>\n",
       "      <td>TR para QG</td>\n",
       "      <td>251.35</td>\n",
       "      <td>288.91</td>\n",
       "      <td>40</td>\n",
       "      <td>0.015</td>\n",
       "      <td>95.44</td>\n",
       "      <td>18.5</td>\n",
       "      <td>120.0</td>\n",
       "    </tr>\n",
       "  </tbody>\n",
       "</table>\n",
       "</div>"
      ],
      "text/plain": [
       "                  Circuito  Corrente pelo metodo de corrente (A)  \\\n",
       "0           MaquinaSolda 1                                 68.37   \n",
       "1           MaquinaSolda 2                                 68.37   \n",
       "2           MaquinaSolda 3                                 68.37   \n",
       "3    QD (motor) para Motor                                 46.24   \n",
       "4  QD (ms) para QD (motor)                                 46.24   \n",
       "5          QG para QD (ms)                                251.35   \n",
       "6               TR para QG                                251.35   \n",
       "\n",
       "   Corrente corrigida (A)  Comprimemto do cabo (m)  Variacação  \\\n",
       "0                  112.27                       12       0.015   \n",
       "1                  112.27                       20       0.040   \n",
       "2                  112.27                       28       0.040   \n",
       "3                   53.15                        4       0.040   \n",
       "4                   53.15                       16       0.075   \n",
       "5                  361.14                       25       0.015   \n",
       "6                  288.91                       40       0.015   \n",
       "\n",
       "   Area pela tensão Calculada (mm²)  Area Final Calculada Pela corrente (mm²)  \\\n",
       "0                              7.79                                      50.0   \n",
       "1                              4.87                                      50.0   \n",
       "2                              6.81                                      50.0   \n",
       "3                              0.66                                      16.0   \n",
       "4                             14.05                                      16.0   \n",
       "5                             59.65                                     240.0   \n",
       "6                             95.44                                      18.5   \n",
       "\n",
       "   Area Final Calculada Pela tensão (mm²)  \n",
       "0                                    10.0  \n",
       "1                                     6.0  \n",
       "2                                    10.0  \n",
       "3                                     2.5  \n",
       "4                                    16.0  \n",
       "5                                    70.0  \n",
       "6                                   120.0  "
      ]
     },
     "execution_count": 139,
     "metadata": {},
     "output_type": "execute_result"
    }
   ],
   "source": [
    "# criando vetores para construção de tabela\n",
    "componenteDoCircuito=[\"MaquinaSolda 1\",\"MaquinaSolda 2\",\"MaquinaSolda 3\",\"QD (motor) para Motor\",\"QD (ms) para QD (motor)\",\"QG para QD (ms)\",\"TR para QG\"]\n",
    "correnteCorrente=[68.37,68.37,68.37,46.24,46.24,251.35,251.35]\n",
    "correnteCorrigida=[112.27,112.27,112.27,53.15,53.15,361.14,288.91]\n",
    "areadDoCondutorCorrente=[]\n",
    "comprimentoV=[12,20,28,4,16,25,40]\n",
    "eficienciaV=[0.015,0.04,0.04,0.04,0.075,0.015,0.015]\n",
    "areadDoCondutorTensao=[7.79,4.87,6.81,0.66,14.05,59.65,95.44]\n",
    "areaFinalPelaCorrenteFase=[50,50,50,16,16,240,18.5]\n",
    "areaFinalPelaCorrenteTesao=[10,6,10,2.5,16,70,120]\n",
    "tab={'Circuito':componenteDoCircuito,'Corrente pelo metodo de corrente (A)':correnteCorrente,'Corrente corrigida (A)':correnteCorrigida,'Comprimemto do cabo (m)':comprimentoV,'Variacação':eficienciaV,'Area pela tensão Calculada (mm²)':areadDoCondutorTensao,'Area Final Calculada Pela corrente (mm²)':areaFinalPelaCorrenteFase,'Area Final Calculada Pela tensão (mm²)':areaFinalPelaCorrenteTesao}\n",
    "tabfinal = pd.DataFrame(data=tab)\n",
    "tabfinal"
   ]
  },
  {
   "cell_type": "code",
   "execution_count": 137,
   "metadata": {},
   "outputs": [
    {
     "data": {
      "text/plain": [
       "7"
      ]
     },
     "execution_count": 137,
     "metadata": {},
     "output_type": "execute_result"
    }
   ],
   "source": [
    "len(areaFinalPelaCorrenteFase)"
   ]
  }
 ],
 "metadata": {
  "kernelspec": {
   "display_name": "Python 3",
   "language": "python",
   "name": "python3"
  },
  "language_info": {
   "codemirror_mode": {
    "name": "ipython",
    "version": 3
   },
   "file_extension": ".py",
   "mimetype": "text/x-python",
   "name": "python",
   "nbconvert_exporter": "python",
   "pygments_lexer": "ipython3",
   "version": "3.7.1"
  }
 },
 "nbformat": 4,
 "nbformat_minor": 2
}
